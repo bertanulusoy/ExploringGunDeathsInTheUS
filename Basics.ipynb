{
 "cells": [
  {
   "cell_type": "markdown",
   "metadata": {},
   "source": [
    "## Analyzing Gun Deaths in the US\n",
    "The dataset can be found in the github repository.\n",
    "It contains information on gun deaths in the US from 2012 to 2014.\n",
    "Each row in the dataset represents a single fatality. The columns contain demographic and other information about the victim. "
   ]
  },
  {
   "cell_type": "markdown",
   "metadata": {},
   "source": [
    "### 1. Reading guns.csv file and splitting headers from data"
   ]
  },
  {
   "cell_type": "code",
   "execution_count": null,
   "metadata": {
    "scrolled": true
   },
   "outputs": [],
   "source": [
    "import csv\n",
    "import datetime\n",
    "\n",
    "# Open the file using the open() function.\n",
    "f = open(\"guns.csv\", \"r\")\n",
    "# Use the csv.reader() function to load the opened file.\n",
    "csvreader = csv.reader(f)\n",
    "# Convert csvreader variable to list and assign it to data variable.\n",
    "data = list(csvreader)\n",
    "# Extracting first row of data, and assign it to the variable headers.\n",
    "headers = data[:1]\n",
    "# Remove the first row from data.\n",
    "data = data[1:]\n",
    "# Display headers.\n",
    "print(headers)\n",
    "# Display first 5 rows of data.\n",
    "print(data[:5])"
   ]
  },
  {
   "cell_type": "markdown",
   "metadata": {},
   "source": [
    "### 2. Finding how many gun deaths occur in each year"
   ]
  },
  {
   "cell_type": "code",
   "execution_count": null,
   "metadata": {},
   "outputs": [],
   "source": [
    "# Create year_counts dictionary\n",
    "year_counts = dict()\n",
    "for row in data:\n",
    "    # Extract year column from data\n",
    "    years = row[1]\n",
    "    if years in year_counts:\n",
    "        # if the year element is a key in year_counts dictionary, increment the value by one. \n",
    "        year_counts[years] += 1\n",
    "    else:\n",
    "        # if the year element is not a key in year_counts dictionary, set the value to one. \n",
    "        year_counts[years] = 1      \n",
    "# Display year_counts to see how many gun deaths occur in each year.\n",
    "print(year_counts)"
   ]
  },
  {
   "cell_type": "markdown",
   "metadata": {},
   "source": [
    "### 3. Let's see if gun deaths in the US change by month and year."
   ]
  },
  {
   "cell_type": "code",
   "execution_count": null,
   "metadata": {
    "scrolled": false
   },
   "outputs": [],
   "source": [
    "# Create dates list\n",
    "dates = []\n",
    "# Create date_counts dictionary\n",
    "date_counts = dict()\n",
    "for row in data:\n",
    "    # Extracting year and month from data, and create datetime object from them to append to dates list.\n",
    "    dates.append(datetime.datetime(year=int(row[1]), month=int(row[2]), day=1))\n",
    "for row in dates:\n",
    "    if row in date_counts:\n",
    "        # if the date element is a key in date_counts dictionary, increment the value by one. \n",
    "        date_counts[row] += 1\n",
    "    else:\n",
    "        # if the date element is not a key in date_counts dictionary, set the value to one.\n",
    "        date_counts[row] = 1\n",
    "# Display date_counts to see change gun deaths by month and year\n",
    "print(date_counts)   "
   ]
  },
  {
   "cell_type": "markdown",
   "metadata": {},
   "source": [
    "### 4. How gun deaths in the US vary by gender and race."
   ]
  },
  {
   "cell_type": "code",
   "execution_count": null,
   "metadata": {},
   "outputs": [],
   "source": [
    "# Create sex_counts dictionary\n",
    "sex_counts = dict()\n",
    "for row in data:\n",
    "    # Extracting sex column\n",
    "    sex = row[5]\n",
    "    # Count up how many times each item in the sex column occurs.\n",
    "    if sex in sex_counts:\n",
    "         # if the sex element is a key in sex_counts dictionary, increment the value by one. \n",
    "        sex_counts[sex] +=1\n",
    "    else:\n",
    "        # if the sex element is not a key in sex_counts dictionary, set the value to one.\n",
    "        sex_counts[sex] = 1\n",
    "# Create race_counts dictionary\n",
    "race_counts = dict()\n",
    "for row in data:\n",
    "    race = row[7]\n",
    "    # Count up how many times each item in the race column occurs.\n",
    "    if race in race_counts:\n",
    "         # if the race element is a key in race_counts dictionary, increment the value by one. \n",
    "        race_counts[race] +=1\n",
    "    else:\n",
    "        # if the race element is not a key in race_counts dictionary, set the value to one.\n",
    "        race_counts[race] = 1\n",
    "# Display race_counts and sex_counts\n",
    "print(sex_counts)\n",
    "print(race_counts)"
   ]
  },
  {
   "cell_type": "markdown",
   "metadata": {},
   "source": [
    "### 5. Reading census.csv file"
   ]
  },
  {
   "cell_type": "code",
   "execution_count": null,
   "metadata": {},
   "outputs": [],
   "source": [
    "f = open(\"census.csv\", \"r\")\n",
    "csvreader = csv.reader(f)\n",
    "census = list(csvreader)\n",
    "# Display census data\n",
    "print(census)"
   ]
  },
  {
   "cell_type": "markdown",
   "metadata": {},
   "source": [
    "### 6. Finding rate of gun deaths per 100000 people for each racial category"
   ]
  },
  {
   "cell_type": "code",
   "execution_count": null,
   "metadata": {},
   "outputs": [],
   "source": [
    "# Manually creating a mapping dictionary that maps each key from the race_counts \n",
    "# to the population count of the race from census. \n",
    "mapping = {\n",
    "    \"Asian/Pacific Islander\": float(census[1][14]) + float(census[1][15]),\n",
    "    \"Black\": float(census[1][12]),\n",
    "    \"Native American/Native Alaskan\": float(census[1][13]),\n",
    "    \"Hispanic\": float(census[1][11]),\n",
    "    \"White\": float(census[1][10])\n",
    "}\n",
    "#Create race_per_hundredk dictionary.\n",
    "race_per_hundredk = dict()\n",
    "    \n",
    "for key, value in race_counts.items():\n",
    "    if key in mapping:\n",
    "        race_per_hundredk[key] = (float(value) / float(mapping[key])) * 100000\n",
    "# Display race_per_hundredk. \n",
    "# It contains the rate of gun deaths per 100000 people for each racial category.\n",
    "print(race_per_hundredk)"
   ]
  },
  {
   "cell_type": "markdown",
   "metadata": {},
   "source": [
    "## Explanation of 6th cell:\n",
    "\n",
    "  In order to get from the raw counts of gun deaths by race to a rate of gun deaths per 100,000 people in each race, we'll need to divide the total number of gun deaths by the population of each race. From the census dataset, we know that the number of people in the White racial category is 197318956. We'd divide 66237 by 197318956\n",
    "\n",
    " white_gun_death_rate = 66237 / 197318956\n",
    "\n",
    "This gives us the percentage chance that a given person in the White census race category would have been killed by a gun in the US from 2012 to 2014. If you do this computation, you'll see that the rate is a very small number, 0.0003356849303419181. It's for this reason that it's typical to express crime statistics as the \"rate per 100000\". This tells you the number of people in a given group out of every 100000 that were killed by guns in the US. To get this, we just multiply by 100000.\n",
    "\n",
    "rate_per_hundredk = 0.0003356849303419181 * 100000\n",
    "\n",
    "This gives us 33.56, which we can interpret as \"33.56 out of every 100000 people in the White census race category in the US were killed by guns between 2012 and 2014."
   ]
  },
  {
   "cell_type": "markdown",
   "metadata": {},
   "source": [
    "### 7. Finding number of gun deaths by homicide for that race"
   ]
  },
  {
   "cell_type": "code",
   "execution_count": null,
   "metadata": {},
   "outputs": [],
   "source": [
    "# Create intents list\n",
    "intents = []\n",
    "# Create races list\n",
    "races = []\n",
    "for row in data:\n",
    "    # Extract the intent column\n",
    "    intents.append(row[3])\n",
    "    # Extract the race column\n",
    "    races.append(row[7])\n",
    "    \n",
    "# Create homicide_race_counts dictionary\n",
    "homicide_race_counts = dict()    \n",
    "for i, race in enumerate(races):\n",
    "    # if the intent is Homicide\n",
    "    if intents[i] == \"Homicide\":\n",
    "        if race in homicide_race_counts:\n",
    "            # if the race element is a key in homicide_race_counts dictionary, increment the value by one. \n",
    "            homicide_race_counts[race] +=1\n",
    "        else:\n",
    "            # if the race element is not a key in homicide_race_counts dictionary, set the value to one.\n",
    "            homicide_race_counts[race] = 1\n",
    "                \n",
    "print(homicide_race_counts)  "
   ]
  },
  {
   "cell_type": "markdown",
   "metadata": {},
   "source": [
    "### 8. Finding the rate of gun deaths per 100,000 people for each race homicide category"
   ]
  },
  {
   "cell_type": "code",
   "execution_count": null,
   "metadata": {},
   "outputs": [],
   "source": [
    "#Create race_homicide_per_hundredk dictionary.\n",
    "race_homicide_per_hundredk = dict()\n",
    "for key, value in homicide_race_counts.items():\n",
    "    if key in mapping:\n",
    "        race_homicide_per_hundredk[key] = (float(value) / float(mapping[key])) * 100000\n",
    "# Display race_homicide_per_hundredk. \n",
    "# It contains the rate of gun deaths per 100,000 people for each race homicide category.\n",
    "print(race_homicide_per_hundredk)"
   ]
  }
 ],
 "metadata": {
  "kernelspec": {
   "display_name": "Python 3",
   "language": "python",
   "name": "python3"
  },
  "language_info": {
   "codemirror_mode": {
    "name": "ipython",
    "version": 3
   },
   "file_extension": ".py",
   "mimetype": "text/x-python",
   "name": "python",
   "nbconvert_exporter": "python",
   "pygments_lexer": "ipython3",
   "version": "3.6.5"
  }
 },
 "nbformat": 4,
 "nbformat_minor": 1
}
