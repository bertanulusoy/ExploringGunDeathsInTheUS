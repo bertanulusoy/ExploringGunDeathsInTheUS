{
 "cells": [
  {
   "cell_type": "markdown",
   "metadata": {},
   "source": [
    "### Analyzing Gun Deaths in the US\n",
    "The dataset can be found https://github.com/fivethirtyeight/guns-data \n",
    "It contains information on gun deaths in the US from 2012 to 2014.\n",
    "Each row in the dataset represents a single fatality. The columns contain demographic and other information about the victim. "
   ]
  },
  {
   "cell_type": "code",
   "execution_count": 68,
   "metadata": {
    "scrolled": true
   },
   "outputs": [
    {
     "name": "stdout",
     "output_type": "stream",
     "text": [
      "[['', 'year', 'month', 'intent', 'police', 'sex', 'age', 'race', 'hispanic', 'place', 'education']]\n",
      "[['1', '2012', '01', 'Suicide', '0', 'M', '34', 'Asian/Pacific Islander', '100', 'Home', '4'], ['2', '2012', '01', 'Suicide', '0', 'F', '21', 'White', '100', 'Street', '3'], ['3', '2012', '01', 'Suicide', '0', 'M', '60', 'White', '100', 'Other specified', '4'], ['4', '2012', '02', 'Suicide', '0', 'M', '64', 'White', '100', 'Home', '4'], ['5', '2012', '02', 'Suicide', '0', 'M', '31', 'White', '100', 'Other specified', '2']]\n"
     ]
    }
   ],
   "source": [
    "import csv\n",
    "import datetime\n",
    "\n",
    "# Open the file using the open() function.\n",
    "f = open(\"guns.csv\", \"r\")\n",
    "# Use the csv.reader() function to load the opened file.\n",
    "csvreader = csv.reader(f)\n",
    "# Convert csvreader variable to list and assign it to data variable.\n",
    "data = list(csvreader)\n",
    "# Extracting first row of data, and assign it to the variable headers.\n",
    "headers = data[:1]\n",
    "# Remove the first row from data.\n",
    "data = data[1:]\n",
    "# Display headers.\n",
    "print(headers)\n",
    "# Display first 5 rows of data.\n",
    "print(data[:5])"
   ]
  },
  {
   "cell_type": "code",
   "execution_count": 69,
   "metadata": {},
   "outputs": [],
   "source": [
    "year_counts = dict()\n",
    "for row in data:\n",
    "    years = row[1]\n",
    "    if years in year_counts:\n",
    "        year_counts[years] += 1\n",
    "    else:\n",
    "        year_counts[years] = 1"
   ]
  },
  {
   "cell_type": "code",
   "execution_count": 70,
   "metadata": {
    "scrolled": false
   },
   "outputs": [
    {
     "name": "stdout",
     "output_type": "stream",
     "text": [
      "{datetime.datetime(2014, 9, 1, 0, 0): 2914, datetime.datetime(2012, 3, 1, 0, 0): 2743, datetime.datetime(2012, 7, 1, 0, 0): 3026, datetime.datetime(2014, 2, 1, 0, 0): 2361, datetime.datetime(2012, 12, 1, 0, 0): 2791, datetime.datetime(2012, 2, 1, 0, 0): 2357, datetime.datetime(2012, 9, 1, 0, 0): 2852, datetime.datetime(2012, 5, 1, 0, 0): 2999, datetime.datetime(2014, 12, 1, 0, 0): 2857, datetime.datetime(2013, 12, 1, 0, 0): 2765, datetime.datetime(2013, 9, 1, 0, 0): 2742, datetime.datetime(2013, 6, 1, 0, 0): 2920, datetime.datetime(2012, 1, 1, 0, 0): 2758, datetime.datetime(2014, 5, 1, 0, 0): 2864, datetime.datetime(2013, 4, 1, 0, 0): 2798, datetime.datetime(2014, 3, 1, 0, 0): 2684, datetime.datetime(2013, 11, 1, 0, 0): 2758, datetime.datetime(2012, 11, 1, 0, 0): 2729, datetime.datetime(2013, 5, 1, 0, 0): 2806, datetime.datetime(2012, 10, 1, 0, 0): 2733, datetime.datetime(2014, 10, 1, 0, 0): 2865, datetime.datetime(2014, 4, 1, 0, 0): 2862, datetime.datetime(2012, 6, 1, 0, 0): 2826, datetime.datetime(2014, 7, 1, 0, 0): 2884, datetime.datetime(2014, 6, 1, 0, 0): 2931, datetime.datetime(2013, 7, 1, 0, 0): 3079, datetime.datetime(2013, 1, 1, 0, 0): 2864, datetime.datetime(2012, 8, 1, 0, 0): 2954, datetime.datetime(2013, 8, 1, 0, 0): 2859, datetime.datetime(2013, 3, 1, 0, 0): 2862, datetime.datetime(2013, 10, 1, 0, 0): 2808, datetime.datetime(2014, 1, 1, 0, 0): 2651, datetime.datetime(2014, 8, 1, 0, 0): 2970, datetime.datetime(2013, 2, 1, 0, 0): 2375, datetime.datetime(2012, 4, 1, 0, 0): 2795, datetime.datetime(2014, 11, 1, 0, 0): 2756}\n"
     ]
    }
   ],
   "source": [
    "dates = []\n",
    "date_counts = dict()\n",
    "for row in data:\n",
    "    dates.append(datetime.datetime(year=int(row[1]), month=int(row[2]), day=1))\n",
    "\n",
    "for row in dates:\n",
    "    if row in date_counts:\n",
    "        date_counts[row] += 1\n",
    "    else:\n",
    "        date_counts[row] = 1\n",
    "        \n",
    "print(date_counts)\n",
    "   "
   ]
  },
  {
   "cell_type": "code",
   "execution_count": 71,
   "metadata": {},
   "outputs": [],
   "source": [
    "sex_counts = dict()\n",
    "for row in data:\n",
    "    sex = row[5]\n",
    "    if sex in sex_counts:\n",
    "        sex_counts[sex] +=1\n",
    "    else:\n",
    "        sex_counts[sex] = 1\n",
    "        \n",
    "race_counts = dict()\n",
    "for row in data:\n",
    "    race = row[7]\n",
    "    if race in race_counts:\n",
    "        race_counts[race] +=1\n",
    "    else:\n",
    "        race_counts[race] = 1\n"
   ]
  },
  {
   "cell_type": "markdown",
   "metadata": {},
   "source": [
    "### Learnings\n",
    "- Reading file and get it in to a list\n",
    "- Extracting\n",
    "- Dictionary\n",
    "- Grouping or categorizing, and finding their values\n",
    "- datetime"
   ]
  },
  {
   "cell_type": "code",
   "execution_count": 72,
   "metadata": {},
   "outputs": [
    {
     "name": "stdout",
     "output_type": "stream",
     "text": [
      "[['Id', 'Year', 'Id', 'Sex', 'Id', 'Hispanic Origin', 'Id', 'Id2', 'Geography', 'Total', 'Race Alone - White', 'Race Alone - Hispanic', 'Race Alone - Black or African American', 'Race Alone - American Indian and Alaska Native', 'Race Alone - Asian', 'Race Alone - Native Hawaiian and Other Pacific Islander', 'Two or More Races'], ['cen42010', 'April 1, 2010 Census', 'totsex', 'Both Sexes', 'tothisp', 'Total', '0100000US', '', 'United States', '308745538', '197318956', '44618105', '40250635', '3739506', '15159516', '674625', '6984195']]\n"
     ]
    }
   ],
   "source": [
    "f = open(\"census.csv\", \"r\")\n",
    "csvreader = csv.reader(f)\n",
    "census = list(csvreader)\n",
    "\n",
    "print(census)"
   ]
  },
  {
   "cell_type": "code",
   "execution_count": 73,
   "metadata": {},
   "outputs": [
    {
     "name": "stdout",
     "output_type": "stream",
     "text": [
      "{'Black': 57.8773477735196, 'Native American/Native Alaskan': 24.521955573811088, 'Asian/Pacific Islander': 8.374309664161762, 'White': 33.56849303419181, 'Hispanic': 20.220491210910907}\n"
     ]
    }
   ],
   "source": [
    "mapping = {\n",
    "    \"Asian/Pacific Islander\": float(census[1][14]) + float(census[1][15]),\n",
    "    \"Black\": float(census[1][12]),\n",
    "    \"Native American/Native Alaskan\": float(census[1][13]),\n",
    "    \"Hispanic\": float(census[1][11]),\n",
    "    \"White\": float(census[1][10])\n",
    "}\n",
    "\n",
    "race_per_hundredk = dict()\n",
    "    \n",
    "for key, value in race_counts.items():\n",
    "    if key in mapping:\n",
    "        race_per_hundredk[key] = (float(value) / float(mapping[key])) * 100000\n",
    "        \n",
    "print(race_per_hundredk)"
   ]
  },
  {
   "cell_type": "code",
   "execution_count": 92,
   "metadata": {},
   "outputs": [
    {
     "name": "stdout",
     "output_type": "stream",
     "text": [
      "{'Black': 19510, 'Native American/Native Alaskan': 326, 'Asian/Pacific Islander': 559, 'Hispanic': 5634, 'White': 9147}\n"
     ]
    }
   ],
   "source": [
    "intents = []\n",
    "races = []\n",
    "for row in data:\n",
    "    intents.append(row[3])\n",
    "    races.append(row[7])\n",
    "\n",
    "homicide_race_counts = dict()    \n",
    "for i, race in enumerate(races):\n",
    "    if intents[i] == \"Homicide\":\n",
    "        if race in homicide_race_counts:\n",
    "            homicide_race_counts[race] +=1\n",
    "        else:\n",
    "            homicide_race_counts[race] = 1\n",
    "                \n",
    "print(homicide_race_counts)\n",
    "        \n",
    "        "
   ]
  },
  {
   "cell_type": "markdown",
   "metadata": {},
   "source": [
    "#### Findings\n",
    "- Compare and count intersected parts of two columns\n",
    "- Extracting columns"
   ]
  },
  {
   "cell_type": "code",
   "execution_count": null,
   "metadata": {
    "collapsed": true
   },
   "outputs": [],
   "source": []
  }
 ],
 "metadata": {
  "kernelspec": {
   "display_name": "Python 3",
   "language": "python",
   "name": "python3"
  },
  "language_info": {
   "codemirror_mode": {
    "name": "ipython",
    "version": 3
   },
   "file_extension": ".py",
   "mimetype": "text/x-python",
   "name": "python",
   "nbconvert_exporter": "python",
   "pygments_lexer": "ipython3",
   "version": "3.6.5"
  }
 },
 "nbformat": 4,
 "nbformat_minor": 1
}
